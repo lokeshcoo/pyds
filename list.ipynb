{
 "cells": [
  {
   "cell_type": "code",
   "execution_count": 3,
   "metadata": {},
   "outputs": [
    {
     "name": "stdout",
     "output_type": "stream",
     "text": [
      "terabox\n",
      "['truecaller', 'chrome', 'weather']\n",
      "['vidmate', 'phonebook', 'chrome']\n",
      "['camera', 'terabox', 'weather', 'chrome', 'truecaller', 'phonebook', 'editor', 'vidmate', 'opera', 'uc browser']\n",
      "['camera']\n"
     ]
    }
   ],
   "source": [
    "apps=['uc browser','opera','vidmate','editor','phonebook','truecaller','chrome','weather','terabox','camera']\n",
    "print(apps[8])\n",
    "print(apps[5:8])\n",
    "print(apps[2:7:2])\n",
    "print(apps[::-1])\n",
    "print(apps[-1:])\n"
   ]
  },
  {
   "cell_type": "code",
   "execution_count": 1,
   "metadata": {},
   "outputs": [
    {
     "name": "stdout",
     "output_type": "stream",
     "text": [
      "['uc browser', 'opera', 'vidmate', 'editor', 'phonebook', 'microsoft', 'chrome', 'weather', 'terabox', 'camera']\n"
     ]
    }
   ],
   "source": [
    "apps=['uc browser','opera','vidmate','editor','phonebook','truecaller','chrome','weather','terabox','camera']\n",
    "apps[5]=\"microsoft\"\n",
    "print(apps)"
   ]
  },
  {
   "cell_type": "code",
   "execution_count": 4,
   "metadata": {},
   "outputs": [
    {
     "name": "stdout",
     "output_type": "stream",
     "text": [
      "['uc browser', 'opera', 'vidmate', 'editor', 'phonebook', 'truecaller', 'chrome', 'weather', 'terabox', 'camera', 'microsoft']\n"
     ]
    }
   ],
   "source": [
    "apps=['uc browser','opera','vidmate','editor','phonebook','truecaller','chrome','weather','terabox','camera']\n",
    "apps.append('microsoft')\n",
    "print(apps)"
   ]
  },
  {
   "cell_type": "code",
   "execution_count": null,
   "metadata": {},
   "outputs": [],
   "source": []
  }
 ],
 "metadata": {
  "kernelspec": {
   "display_name": "base",
   "language": "python",
   "name": "python3"
  },
  "language_info": {
   "codemirror_mode": {
    "name": "ipython",
    "version": 3
   },
   "file_extension": ".py",
   "mimetype": "text/x-python",
   "name": "python",
   "nbconvert_exporter": "python",
   "pygments_lexer": "ipython3",
   "version": "3.11.4"
  },
  "orig_nbformat": 4
 },
 "nbformat": 4,
 "nbformat_minor": 2
}
