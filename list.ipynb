{
 "cells": [
  {
   "cell_type": "code",
   "execution_count": 1,
   "metadata": {},
   "outputs": [
    {
     "name": "stdout",
     "output_type": "stream",
     "text": [
      "terabox\n",
      "['truecaller', 'chrome', 'weather']\n",
      "['vidmate', 'phonebook', 'chrome']\n",
      "['camera', 'terabox', 'weather', 'chrome', 'truecaller', 'phonebook', 'editor', 'vidmate', 'opera', 'uc browser']\n",
      "['camera']\n"
     ]
    }
   ],
   "source": [
    "apps=['uc browser','opera','vidmate','editor','phonebook','truecaller','chrome','weather','terabox','camera']\n",
    "print(apps[8])\n",
    "print(apps[5:8])\n",
    "print(apps[2:7:2])\n",
    "print(apps[::-1])\n",
    "print(apps[-1:])\n"
   ]
  },
  {
   "cell_type": "code",
   "execution_count": 2,
   "metadata": {},
   "outputs": [
    {
     "name": "stdout",
     "output_type": "stream",
     "text": [
      "['uc browser', 'opera', 'vidmate', 'editor', 'phonebook', 'microsoft', 'chrome', 'weather', 'terabox', 'camera']\n"
     ]
    }
   ],
   "source": [
    "apps=['uc browser','opera','vidmate','editor','phonebook','truecaller','chrome','weather','terabox','camera']\n",
    "apps[5]=\"microsoft\"\n",
    "print(apps)"
   ]
  },
  {
   "cell_type": "code",
   "execution_count": 3,
   "metadata": {},
   "outputs": [
    {
     "name": "stdout",
     "output_type": "stream",
     "text": [
      "['uc browser', 'opera', 'vidmate', 'editor', 'phonebook', 'truecaller', 'chrome', 'weather', 'terabox', 'camera', 'microsoft']\n"
     ]
    }
   ],
   "source": [
    "apps=['uc browser','opera','vidmate','editor','phonebook','truecaller','chrome','weather','terabox','camera']\n",
    "apps.append('microsoft')\n",
    "print(apps)"
   ]
  },
  {
   "cell_type": "code",
   "execution_count": 4,
   "metadata": {},
   "outputs": [
    {
     "name": "stdout",
     "output_type": "stream",
     "text": [
      "['microsoft', 'camera', 'terabox', 'weather', 'chrome', 'truecaller', 'phonebook', 'editor', 'vidmate', 'opera', 'uc browser']\n"
     ]
    }
   ],
   "source": [
    "apps.reverse()\n",
    "print(apps)"
   ]
  },
  {
   "cell_type": "code",
   "execution_count": 5,
   "metadata": {},
   "outputs": [
    {
     "name": "stdout",
     "output_type": "stream",
     "text": [
      "['microsoft', 'camera', 'terabox', 'weather', 'chrome', 'truecaller', 'phonebook', 'vidmate', 'opera', 'uc browser']\n"
     ]
    }
   ],
   "source": [
    "apps.pop(7)\n",
    "print(apps)"
   ]
  },
  {
   "cell_type": "code",
   "execution_count": 6,
   "metadata": {},
   "outputs": [
    {
     "name": "stdout",
     "output_type": "stream",
     "text": [
      "['microsoft', 'camera', 'terabox', 'weather', 'chrome', 'truecaller', 'phonebook', 'opera', 'uc browser']\n"
     ]
    }
   ],
   "source": [
    "apps.remove('vidmate')\n",
    "print(apps)"
   ]
  },
  {
   "cell_type": "code",
   "execution_count": 7,
   "metadata": {},
   "outputs": [
    {
     "name": "stdout",
     "output_type": "stream",
     "text": [
      "['camera', 'chrome', 'microsoft', 'opera', 'phonebook', 'terabox', 'truecaller', 'uc browser', 'weather']\n"
     ]
    }
   ],
   "source": [
    "apps.sort()\n",
    "print(apps)"
   ]
  },
  {
   "cell_type": "code",
   "execution_count": 8,
   "metadata": {},
   "outputs": [
    {
     "name": "stdout",
     "output_type": "stream",
     "text": [
      "['camera', 'chrome', 'microsoft', 'opera', 'phonebook', 'terabox', 'truecaller', 'uc browser', 'weather']\n"
     ]
    }
   ],
   "source": [
    "x=apps.copy()\n",
    "print(x)"
   ]
  },
  {
   "cell_type": "code",
   "execution_count": 9,
   "metadata": {},
   "outputs": [
    {
     "name": "stdout",
     "output_type": "stream",
     "text": [
      "[]\n"
     ]
    }
   ],
   "source": [
    "x.clear()\n",
    "print(x)"
   ]
  },
  {
   "cell_type": "code",
   "execution_count": 10,
   "metadata": {},
   "outputs": [
    {
     "name": "stdout",
     "output_type": "stream",
     "text": [
      "1\n"
     ]
    }
   ],
   "source": [
    "a=apps.count('opera')\n",
    "print(a)"
   ]
  },
  {
   "cell_type": "code",
   "execution_count": 12,
   "metadata": {},
   "outputs": [
    {
     "name": "stdout",
     "output_type": "stream",
     "text": [
      "['samsung', 'apple', '1+', 'redmi', 'xiaomi', 'oppo', 'nothing', 'vivo']\n"
     ]
    }
   ],
   "source": [
    "mobile=[\"samsung\",\"apple\",\"1+\",\"redmi\",\"xiaomi\",\"oppo\",\"nothing\",\"vivo\"]\n",
    "print(mobile)"
   ]
  },
  {
   "cell_type": "code",
   "execution_count": 13,
   "metadata": {},
   "outputs": [
    {
     "name": "stdout",
     "output_type": "stream",
     "text": [
      "['camera', 'chrome', 'microsoft', 'opera', 'phonebook', 'terabox', 'truecaller', 'uc browser', 'weather', 'samsung', 'apple', '1+', 'redmi', 'xiaomi', 'oppo', 'nothing', 'vivo']\n"
     ]
    }
   ],
   "source": [
    "apps.extend(mobile)\n",
    "print(apps)"
   ]
  },
  {
   "cell_type": "code",
   "execution_count": 14,
   "metadata": {},
   "outputs": [
    {
     "name": "stdout",
     "output_type": "stream",
     "text": [
      "['samsung', 'apple', '1+', 'redmi', 'xiaomi', 'oppo', 'nothing', 'vivo', 'camera', 'chrome', 'microsoft', 'opera', 'phonebook', 'terabox', 'truecaller', 'uc browser', 'weather', 'samsung', 'apple', '1+', 'redmi', 'xiaomi', 'oppo', 'nothing', 'vivo']\n"
     ]
    }
   ],
   "source": [
    "mobile.extend(apps)\n",
    "print(mobile)"
   ]
  },
  {
   "cell_type": "code",
   "execution_count": null,
   "metadata": {},
   "outputs": [],
   "source": []
  }
 ],
 "metadata": {
  "kernelspec": {
   "display_name": "base",
   "language": "python",
   "name": "python3"
  },
  "language_info": {
   "codemirror_mode": {
    "name": "ipython",
    "version": 3
   },
   "file_extension": ".py",
   "mimetype": "text/x-python",
   "name": "python",
   "nbconvert_exporter": "python",
   "pygments_lexer": "ipython3",
   "version": "3.11.4"
  },
  "orig_nbformat": 4
 },
 "nbformat": 4,
 "nbformat_minor": 2
}
