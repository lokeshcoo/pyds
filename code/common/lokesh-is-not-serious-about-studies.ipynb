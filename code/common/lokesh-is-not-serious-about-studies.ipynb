{
 "cells": [
  {
   "cell_type": "code",
   "execution_count": null,
   "metadata": {},
   "outputs": [],
   "source": [
    "import pandas as pd \n",
    "import numpy as np\n",
    "import matplotlib.pyplot as plt\n",
    "import seaborn as sns\n",
    "import plotly.graph_objects as go\n",
    "import plotly.express as px\n",
    "import pandas_datareader as pdr\n",
    "import pandas_datareader.data as web\n",
    "import yfinance as yf\n"
   ]
  },
  {
   "cell_type": "code",
   "execution_count": null,
   "metadata": {},
   "outputs": [],
   "source": [
    "df = pd.read_csv(r\"../data/AAPL.csv\")\n",
    "df"
   ]
  },
  {
   "cell_type": "code",
   "execution_count": null,
   "metadata": {},
   "outputs": [],
   "source": [
    "def plot_closing_graph(df, log_y=True):\n",
    "    fig = px.line(df, 'Date', 'Close', title=\"Closing stock prices\", log_y=log_y)\n",
    "    return fig"
   ]
  },
  {
   "cell_type": "code",
   "execution_count": null,
   "metadata": {},
   "outputs": [],
   "source": [
    "def plot_sales_volume_graph(df, log_y=True):\n",
    "    fig = px.line(df, 'Date', 'Volume', title=\"Closing stock prices\", log_y=log_y)\n",
    "    return fig"
   ]
  },
  {
   "cell_type": "code",
   "execution_count": null,
   "metadata": {},
   "outputs": [],
   "source": [
    "plot_closing_graph(df)\n",
    "plot_sales_volume_graph(df)"
   ]
  },
  {
   "cell_type": "code",
   "execution_count": null,
   "metadata": {},
   "outputs": [],
   "source": [
    "def plot_moving_averages(df, log_y=False):\n",
    "    # Calculate moving averages\n",
    "    df['MA_10'] = df['Close'].rolling(window=10*5).mean()\n",
    "    df['MA_20'] = df['Close'].rolling(window=20).mean()\n",
    "    df['MA_50'] = df['Close'].rolling(window=50).mean()\n",
    "\n",
    "    # Plot using Plotly Express\n",
    "    fig = px.line(df, x='Date', y=['Close', 'MA_10', 'MA_20', 'MA_50'],\n",
    "                  title='Moving Averages',\n",
    "                  labels={'Date': 'Date', 'value': 'Price', 'variable': 'Moving Average'},\n",
    "                  log_y=log_y,\n",
    "                  )\n",
    "    \n",
    "    fig.update_xaxes(type='category')  # Set x-axis type to category for dates\n",
    "    \n",
    "    return fig"
   ]
  },
  {
   "cell_type": "code",
   "execution_count": null,
   "metadata": {},
   "outputs": [],
   "source": [
    "plot_moving_averages(df)"
   ]
  },
  {
   "cell_type": "code",
   "execution_count": null,
   "metadata": {},
   "outputs": [],
   "source": [
    "def plot_average_daily_return(dataframe):\n",
    "    # Calculate daily returns\n",
    "    dataframe['Daily_Return'] = dataframe['Close'].pct_change()\n",
    "    \n",
    "    # Remove NaN values\n",
    "    dataframe.dropna(inplace=True)\n",
    "    \n",
    "    # Calculate cumulative returns\n",
    "    dataframe['Cumulative_Return'] = (1 + dataframe['Daily_Return']).cumprod()\n",
    "    \n",
    "    # Plot using Plotly Express\n",
    "    fig = px.line(dataframe, x=dataframe.index, y='Cumulative_Return',\n",
    "                  title='Cumulative Daily Return',\n",
    "                  labels={'Cumulative_Return': 'Cumulative Return', 'Date': 'Date'})\n",
    "    \n",
    "    # Customize layout\n",
    "    fig.update_layout(\n",
    "        xaxis_title=\"Date\",\n",
    "        yaxis_title=\"Cumulative Return\",\n",
    "        hovermode=\"x unified\"\n",
    "    )\n"
   ]
  },
  {
   "cell_type": "code",
   "execution_count": null,
   "metadata": {},
   "outputs": [],
   "source": [
    "plot_average_daily_return(df)"
   ]
  },
  {
   "cell_type": "code",
   "execution_count": null,
   "metadata": {},
   "outputs": [],
   "source": [
    "\n",
    "def calculate_daily_average_return(dataframe):\n",
    "    # Calculate daily returns\n",
    "    dataframe['Daily_Return'] = dataframe['Close'].pct_change()\n",
    "    \n",
    "    # Drop NaN values\n",
    "    dataframe.dropna(inplace=True)\n",
    "    \n",
    "    # Calculate average daily return\n",
    "    avg_daily_return = dataframe['Daily_Return'].mean()\n",
    "    \n",
    "    return avg_daily_return\n",
    "\n",
    "def plot_daily_average_return(dataframe):\n",
    "    # Calculate daily returns\n",
    "    dataframe['Daily_Return'] = dataframe['Close'].pct_change()\n",
    "    \n",
    "    # Drop NaN values\n",
    "    dataframe.dropna(inplace=True)\n",
    "    \n",
    "    # Plot using Plotly Express\n",
    "    fig = px.line(dataframe, x=dataframe.index, y='Daily_Return',\n",
    "                  title='Daily Average Return',\n",
    "                  labels={'Daily_Return': 'Daily Return', 'Date': 'Date'})\n",
    "    \n",
    "    # Customize layout\n",
    "    fig.update_layout(\n",
    "        xaxis_title=\"Date\",\n",
    "        yaxis_title=\"Daily Return\",\n",
    "        hovermode=\"x unified\"\n",
    "    )\n",
    "    \n",
    "    return fig\n",
    "\n",
    "# Example usage\n",
    "# Load your stock data into a DataFrame\n",
    "# Replace this with your actual data loading code\n",
    "data = {'Date': ['2024-01-01', '2024-01-02', '2024-01-03'],\n",
    "        'Close': [100, 110, 105]}\n",
    "df = pd.DataFrame(data)\n",
    "df['Date'] = pd.to_datetime(df['Date'])\n",
    "df.set_index('Date', inplace=True)\n",
    "\n",
    "# Calculate daily average return\n",
    "average_return = calculate_daily_average_return(df)\n",
    "print(\"Average Daily Return:\", average_return)\n",
    "\n",
    "# Plot daily average return\n",
    "fig = plot_daily_average_return(df)\n",
    "fig.show()"
   ]
  },
  {
   "cell_type": "code",
   "execution_count": null,
   "metadata": {},
   "outputs": [],
   "source": [
    "company_list = [\n",
    "    {'Daily Return': [0.1, 0.101, 0.102, 0.103]},  # Example data for company 1\n",
    "    {'Daily Return': [0.102, 0.103, 0.104, 0.105]},  # Example data for company 2\n",
    "    {'Daily Return': [0.103, 0.104, 0.105, 0.106]},  # Example data for company 3\n",
    "    {'Daily Return': [0.104, 0.105, 0.106, 0.107]}   # Example data for company 4\n",
    "]\n",
    "\n",
    "# Your plotting code\n",
    "plt.figure(figsize=(12, 9))\n",
    "for i, company in enumerate(company_list, 1):\n",
    "    plt.subplot(2, 2, i)\n",
    "    plt.hist(company['Daily Return'], bins=50)\n",
    "plt.show()"
   ]
  },
  {
   "cell_type": "code",
   "execution_count": null,
   "metadata": {},
   "outputs": [],
   "source": [
    "sns.set(style=\"whitegrid\")  # Set style to whitegrid for better readability\n",
    "plt.figure(figsize=(8, 6))  # Set larger figure size for better visualization\n",
    "\n",
    "# Create joint plot with scatter plot and marginal histograms\n",
    "joint_plot = sns.jointplot(x='AAPL', y='AAPL', data=tech_rets, kind='scatter', color='blue',\n",
    "                           marginal_kws=dict(bins=10, fill=True),  # Adjust bins and fill for histograms\n",
    "                           height=7, ratio=3)  # Adjust size and ratio of joint plot\n",
    "\n",
    "\n",
    "joint_plot.set_axis_labels('AAPL Returns', 'AAPL Returns', fontsize=12)  \n",
    "joint_plot.fig.suptitle('Joint Plot of AAPL Returns', fontsize=16) \n",
    "\n",
    "\n",
    "sns.regplot(x='AAPL', y='AAPL', data=tech_rets, scatter=False, ax=joint_plot.ax_joint, color='red') \n",
    "\n",
    "\n",
    "plt.show()"
   ]
  },
  {
   "cell_type": "code",
   "execution_count": null,
   "metadata": {},
   "outputs": [],
   "source": [
    "ticker = 'AAPL'  # Ticker symbol for Apple Inc.\n",
    "start_date = '2023-09-01'  # Start date in 'YYYY-MM-DD' format\n",
    "end_date = '2023-09-15'  # End date in 'YYYY-MM-DD' format\n",
    "\n",
    "# Retrieve the adjusted close prices for 'AAPL' using yfinance\n",
    "data = yf.download(ticker, start=start_date, end=end_date)\n",
    "\n",
    "# Extract the 'Adj Close' column\n",
    "closing_df = data['Adj Close']\n",
    "\n",
    "# Make a new DataFrame for tech returns\n",
    "tech_rets = closing_df.pct_change()"
   ]
  },
  {
   "cell_type": "code",
   "execution_count": null,
   "metadata": {},
   "outputs": [],
   "source": [
    "tech_rets.head()"
   ]
  },
  {
   "cell_type": "code",
   "execution_count": null,
   "metadata": {},
   "outputs": [],
   "source": [
    "plt.scatter(x=tech_rets['AAPL'], y=tech_rets['AAPL'], color='seagreen')\n",
    "plt.xlabel('AAPL Returns')\n",
    "plt.ylabel('AAPL Returns')\n",
    "plt.title('Scatter Plot of AAPL Returns')\n",
    "plt.show()"
   ]
  }
 ],
 "metadata": {
  "kernelspec": {
   "display_name": "base",
   "language": "python",
   "name": "python3"
  },
  "language_info": {
   "codemirror_mode": {
    "name": "ipython",
    "version": 3
   },
   "file_extension": ".py",
   "mimetype": "text/x-python",
   "name": "python",
   "nbconvert_exporter": "python",
   "pygments_lexer": "ipython3",
   "version": "3.11.4"
  }
 },
 "nbformat": 4,
 "nbformat_minor": 2
}
