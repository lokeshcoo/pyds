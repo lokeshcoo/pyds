{
 "cells": [
  {
   "cell_type": "markdown",
   "metadata": {},
   "source": [
    "conditions\n",
    "- if\n",
    "- elif\n",
    "- if+else\n",
    "- nested if"
   ]
  },
  {
   "cell_type": "code",
   "execution_count": 2,
   "metadata": {},
   "outputs": [
    {
     "name": "stdout",
     "output_type": "stream",
     "text": [
      "x is less than y\n",
      "y is greater than z\n",
      "z is greater than x\n"
     ]
    }
   ],
   "source": [
    "x=10\n",
    "y=20\n",
    "z=15\n",
    "if x<y:\n",
    "    print('x is less than y')\n",
    "if x>y:\n",
    "    print('x is greater than y')\n",
    "if y<z:\n",
    "    print('y is less than z')\n",
    "if y>z:\n",
    "9    print('y is greater than z')\n",
    "if z<x:\n",
    "    print('z is less than x')\n",
    "if z>x:\n",
    "    print('z is greater than x')                    "
   ]
  },
  {
   "cell_type": "code",
   "execution_count": 4,
   "metadata": {},
   "outputs": [
    {
     "name": "stdout",
     "output_type": "stream",
     "text": [
      "grade=A\n"
     ]
    }
   ],
   "source": [
    "\n",
    "\n",
    "maths=int(input(\"enter the maths marks\"))\n",
    "sci=int(input(\"enter the sci marks\"))\n",
    "phy=int(input(\"enter the phy marks\"))\n",
    "chem=int(input(\"enter the chem marks \"))\n",
    "bio=int(input(\"enter the sci marks\"))\n",
    "total=maths+sci+phy+chem+bio\n",
    "percent=(total/500)*100\n",
    "if percent>90:\n",
    "    print(\"grade=A+\")\n",
    "elif percent>=80:\n",
    "    print(\"grade=A\")\n",
    "elif percent>=70:\n",
    "    print(\"grade=B\")\n",
    "elif percent>=60:\n",
    "    print(\"grade=C\")\n",
    "else:\n",
    "    print(\"fail\")    \n",
    "\n"
   ]
  },
  {
   "cell_type": "code",
   "execution_count": 6,
   "metadata": {},
   "outputs": [
    {
     "name": "stdout",
     "output_type": "stream",
     "text": [
      "is not vowel\n"
     ]
    }
   ],
   "source": [
    "vowels=[\"a\",\"e\",\"i\",\"o\",\"u\"]\n",
    "char=input(\"enter a character\")\n",
    "if (char in vowels):\n",
    "    print(f\"is vowel\") \n",
    "else:\n",
    "    print(f\"is not vowel\")    \n",
    "    \n"
   ]
  },
  {
   "cell_type": "code",
   "execution_count": 2,
   "metadata": {},
   "outputs": [
    {
     "name": "stdout",
     "output_type": "stream",
     "text": [
      "largest number\n"
     ]
    }
   ],
   "source": [
    "x=10\n",
    "y=20\n",
    "z=30\n",
    "if(x<y):\n",
    "    \n",
    "    if(y<z):\n",
    "        print(\"largest number\")\n",
    "    else:\n",
    "        print(\"smallest\")\n",
    "    \n",
    "else:\n",
    "    print(\"invalid\")"
   ]
  },
  {
   "cell_type": "code",
   "execution_count": 5,
   "metadata": {},
   "outputs": [
    {
     "name": "stdout",
     "output_type": "stream",
     "text": [
      "invalid email🤦‍♂️\n"
     ]
    }
   ],
   "source": [
    "name=input(\"enter the username\")\n",
    "email=input(\"enter the email\")\n",
    "ps=input(\"enter the password\")\n",
    "ps2=input(\"enter the password again\")\n",
    "if len(name)>=4 and len(name)<=15:\n",
    "    if '@' in email and email.islower() and len(email)<10:\n",
    "        if len(ps)>=6 and ps!=name:\n",
    "            if ps==ps2:\n",
    "                print(\"hurray🎉\") \n",
    "            else:\n",
    "                print(\"password not matched🙄\")\n",
    "        else:\n",
    "            print(\"invalid password🤦‍♂️\")\n",
    "    else:\n",
    "        print(\"invalid email🤦‍♂️\")\n",
    "else:\n",
    "    print(\"invalid name😭\")                            "
   ]
  },
  {
   "cell_type": "code",
   "execution_count": 7,
   "metadata": {},
   "outputs": [
    {
     "name": "stdout",
     "output_type": "stream",
     "text": [
      "i will sleep for 1 hour more\n",
      "i will go to park\n"
     ]
    }
   ],
   "source": [
    "temp=25\n",
    "weather=\"sunny\"\n",
    "if weather==\"sunny\":\n",
    "    print(\"i will sleep for 1 hour more\")\n",
    "    if temp>30:\n",
    "       print(\"i will go to beach\")\n",
    "    else:\n",
    "        print(\"i will go to park\")   \n",
    "else:\n",
    "    print(\"i will party at home\")     \n",
    "\n"
   ]
  },
  {
   "cell_type": "code",
   "execution_count": null,
   "metadata": {},
   "outputs": [],
   "source": []
  }
 ],
 "metadata": {
  "kernelspec": {
   "display_name": "base",
   "language": "python",
   "name": "python3"
  },
  "language_info": {
   "codemirror_mode": {
    "name": "ipython",
    "version": 3
   },
   "file_extension": ".py",
   "mimetype": "text/x-python",
   "name": "python",
   "nbconvert_exporter": "python",
   "pygments_lexer": "ipython3",
   "version": "3.11.4"
  },
  "orig_nbformat": 4
 },
 "nbformat": 4,
 "nbformat_minor": 2
}
