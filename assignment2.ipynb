{
 "cells": [
  {
   "cell_type": "code",
   "execution_count": 2,
   "metadata": {},
   "outputs": [
    {
     "name": "stdout",
     "output_type": "stream",
     "text": [
      "Gross salary :  50500.0\n"
     ]
    }
   ],
   "source": [
    "salary = float(input(\"Enter Basic Salary : \"))\n",
    "da_percentage = 0.8\n",
    "hra_percentage = 0.2\n",
    "da = (salary * da_percentage) / 100\n",
    "hra = (salary * hra_percentage) / 100\n",
    "gross_salary = salary + da + hra\n",
    "print(\"Gross salary : \", gross_salary)"
   ]
  },
  {
   "cell_type": "code",
   "execution_count": 6,
   "metadata": {},
   "outputs": [
    {
     "ename": "SyntaxError",
     "evalue": "invalid syntax (1872839277.py, line 7)",
     "output_type": "error",
     "traceback": [
      "\u001b[1;36m  Cell \u001b[1;32mIn[6], line 7\u001b[1;36m\u001b[0m\n\u001b[1;33m    elif shape == \"square\":\u001b[0m\n\u001b[1;37m    ^\u001b[0m\n\u001b[1;31mSyntaxError\u001b[0m\u001b[1;31m:\u001b[0m invalid syntax\n"
     ]
    }
   ],
   "source": [
    "shape=(\"enetr the shape\")\n",
    "l=int(input(\"enter the length\"))\n",
    "b=int(input(\"enter the breadth\"))\n",
    "if shape == \"rectangle\":\n",
    "    area_r=l*b\n",
    "    print(\"Area of rectangle=\",area_r)\n",
    "elif shape == \"square\":\n",
    "    area_s=l*l\n",
    "    print(\"area of square\",area_s)\n",
    "\n",
    "\n"
   ]
  },
  {
   "cell_type": "code",
   "execution_count": 2,
   "metadata": {},
   "outputs": [
    {
     "name": "stdout",
     "output_type": "stream",
     "text": [
      "12.041594578792296\n"
     ]
    }
   ],
   "source": [
    "import math\n",
    "a=8\n",
    "b=9\n",
    "c = math.sqrt(a ** 2 + b ** 2)\n",
    "print(c)"
   ]
  },
  {
   "cell_type": "code",
   "execution_count": 3,
   "metadata": {},
   "outputs": [
    {
     "name": "stdout",
     "output_type": "stream",
     "text": [
      "number is not a prime number 5\n"
     ]
    }
   ],
   "source": [
    "n=int(input(\"enetr the number\"))\n",
    "if n==0 or n==1:\n",
    "    print(\"number is a prime number\",n)\n",
    "elif n==(n/n==1 or n )    \n",
    "else:\n",
    "    print(\"number is not a prime number\",n)    "
   ]
  },
  {
   "cell_type": "code",
   "execution_count": null,
   "metadata": {},
   "outputs": [],
   "source": []
  }
 ],
 "metadata": {
  "kernelspec": {
   "display_name": "base",
   "language": "python",
   "name": "python3"
  },
  "language_info": {
   "codemirror_mode": {
    "name": "ipython",
    "version": 3
   },
   "file_extension": ".py",
   "mimetype": "text/x-python",
   "name": "python",
   "nbconvert_exporter": "python",
   "pygments_lexer": "ipython3",
   "version": "3.11.4"
  },
  "orig_nbformat": 4
 },
 "nbformat": 4,
 "nbformat_minor": 2
}
