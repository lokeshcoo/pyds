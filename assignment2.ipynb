{
 "cells": [
  {
   "cell_type": "code",
   "execution_count": 2,
   "metadata": {},
   "outputs": [
    {
     "name": "stdout",
     "output_type": "stream",
     "text": [
      "Gross salary :  50500.0\n"
     ]
    }
   ],
   "source": [
    "salary = float(input(\"Enter Basic Salary : \"))\n",
    "da_percentage = 0.8\n",
    "hra_percentage = 0.2\n",
    "da = (salary * da_percentage) / 100\n",
    "hra = (salary * hra_percentage) / 100\n",
    "gross_salary = salary + da + hra\n",
    "print(\"Gross salary : \", gross_salary)"
   ]
  },
  {
   "cell_type": "code",
   "execution_count": 6,
   "metadata": {},
   "outputs": [
    {
     "ename": "SyntaxError",
     "evalue": "invalid syntax (1872839277.py, line 7)",
     "output_type": "error",
     "traceback": [
      "\u001b[1;36m  Cell \u001b[1;32mIn[6], line 7\u001b[1;36m\u001b[0m\n\u001b[1;33m    elif shape == \"square\":\u001b[0m\n\u001b[1;37m    ^\u001b[0m\n\u001b[1;31mSyntaxError\u001b[0m\u001b[1;31m:\u001b[0m invalid syntax\n"
     ]
    }
   ],
   "source": [
    "shape=(\"enetr the shape\")\n",
    "l=int(input(\"enter the length\"))\n",
    "b=int(input(\"enter the breadth\"))\n",
    "if shape == \"rectangle\":\n",
    "    area_r=l*b\n",
    "    print(\"Area of rectangle=\",area_r)\n",
    "elif shape == \"square\":\n",
    "    area_s=l*l\n",
    "    print(\"area of square\",area_s)\n",
    "\n",
    "\n"
   ]
  },
  {
   "cell_type": "code",
   "execution_count": 2,
   "metadata": {},
   "outputs": [
    {
     "name": "stdout",
     "output_type": "stream",
     "text": [
      "the value of base(1.8369701987210297e-16+3j)\n",
      "B\n"
     ]
    }
   ],
   "source": [
    "\n",
    "a=int(input(\"enter the value of first side:\"))\n",
    "b=int(input(\"enter the value of second side:\"))\n",
    "c=input(\"enter the side which you want to find:\")\n",
    "ans=0\n",
    "match c:\n",
    "    case \"H\":\n",
    "        ans=(a**2+b**2)**0.5\n",
    "        print(f\"the value of hypotenous{ans}\")\n",
    "    case \"B\":\n",
    "        if b>a:\n",
    "         ans=(b**2-a**2)**0.5\n",
    "         print(f\"the value of base{ans}\")\n",
    "        else:\n",
    "            ans=(b**2-a**2)**0.5\n",
    "            print(f\"the value of base{ans}\")\n",
    "\n",
    "    case \"P\":\n",
    "        ans=(a**2-b**2)**0.5\n",
    "        print(f\"the value of perpendicular{ans}\")   \n",
    "    case _:\n",
    "        print(\"invalid input\")     \n",
    "\n",
    "print(c)"
   ]
  },
  {
   "cell_type": "code",
   "execution_count": 3,
   "metadata": {},
   "outputs": [
    {
     "name": "stdout",
     "output_type": "stream",
     "text": [
      "number is a prime number 6\n",
      "number is a prime number 6\n",
      "number is not prime number  6\n",
      "number is not prime number  6\n"
     ]
    }
   ],
   "source": [
    "n=int(input(\"enetr the number\"))\n",
    "if n==0 or n==1:\n",
    "    print(\"number is not a  prime number\",n)\n",
    "elif n>1:\n",
    "    for i in range(2,n) :\n",
    "        if (n%i)==0:\n",
    "            print(\"number is a prime number\",n)\n",
    "        else:\n",
    "            print(\"number is not prime number \",n)\n",
    "else:\n",
    "    print(\"number is a prime number\",n)    "
   ]
  },
  {
   "cell_type": "code",
   "execution_count": 5,
   "metadata": {},
   "outputs": [
    {
     "name": "stdout",
     "output_type": "stream",
     "text": [
      "not a leap year \n"
     ]
    }
   ],
   "source": [
    "n=int(input(\"enter the year\"))\n",
    "if(n%4==0):\n",
    "    print (\"the year is leap year \")\n",
    "else:\n",
    "    print(\"not a leap year \")    "
   ]
  },
  {
   "cell_type": "code",
   "execution_count": 3,
   "metadata": {},
   "outputs": [
    {
     "name": "stdout",
     "output_type": "stream",
     "text": [
      "weired\n"
     ]
    }
   ],
   "source": [
    "n=int(input(\"enter the number\"))\n",
    "if(n%2!=0):\n",
    "    print(\"weired\")\n",
    "elif(n%2==0 and n in range(2,5)):\n",
    "    print(\"not wiered\") \n",
    "elif(n%2==0 and n in range(6,20)):\n",
    "    print(\" wiered\")   \n",
    "elif(n>20):\n",
    "    print(\"not wiered\")   \n",
    "else:\n",
    "    print(\"invalid\")     \n"
   ]
  },
  {
   "cell_type": "code",
   "execution_count": 12,
   "metadata": {},
   "outputs": [
    {
     "name": "stdout",
     "output_type": "stream",
     "text": [
      "Multiplication Table of 4\n",
      "4 X 1 = 4\n",
      "4 X 2 = 8\n",
      "4 X 3 = 12\n",
      "4 X 4 = 16\n",
      "4 X 5 = 20\n",
      "4 X 6 = 24\n",
      "4 X 7 = 28\n",
      "4 X 8 = 32\n",
      "4 X 9 = 36\n",
      "4 X 10 = 40\n"
     ]
    }
   ],
   "source": [
    "n= int(input(\"Enter the number: \"))\n",
    "print(\"Multiplication Table of\",n) \n",
    "for i in range(1, 11): \n",
    "    print(n, \"X\",i, \"=\", n*i)"
   ]
  },
  {
   "cell_type": "code",
   "execution_count": null,
   "metadata": {},
   "outputs": [],
   "source": []
  }
 ],
 "metadata": {
  "kernelspec": {
   "display_name": "base",
   "language": "python",
   "name": "python3"
  },
  "language_info": {
   "codemirror_mode": {
    "name": "ipython",
    "version": 3
   },
   "file_extension": ".py",
   "mimetype": "text/x-python",
   "name": "python",
   "nbconvert_exporter": "python",
   "pygments_lexer": "ipython3",
   "version": "3.11.4"
  },
  "orig_nbformat": 4
 },
 "nbformat": 4,
 "nbformat_minor": 2
}
