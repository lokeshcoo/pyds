{
 "cells": [
  {
   "cell_type": "code",
   "execution_count": 21,
   "metadata": {},
   "outputs": [],
   "source": [
    "import math "
   ]
  },
  {
   "cell_type": "code",
   "execution_count": 22,
   "metadata": {},
   "outputs": [
    {
     "name": "stdout",
     "output_type": "stream",
     "text": [
      "3.4641016151377544\n",
      "120\n",
      "2.0\n",
      "2\n",
      "252\n",
      "3.141592653589793\n",
      "2.718281828459045\n",
      "0.1411200080598672\n"
     ]
    }
   ],
   "source": [
    "a=12\n",
    "b=math.sqrt(a)\n",
    "print(b)\n",
    "print(math.factorial(5))\n",
    "print(math.log(100,10))\n",
    "print(math.gcd(12,18,14))\n",
    "print(math.lcm(12,18,14))\n",
    "print(math.pi)\n",
    "print(math.e)\n",
    "print(math.sin(3))"
   ]
  },
  {
   "cell_type": "code",
   "execution_count": 23,
   "metadata": {},
   "outputs": [],
   "source": [
    "from random import random, randint , choice , shuffle"
   ]
  },
  {
   "cell_type": "code",
   "execution_count": 24,
   "metadata": {},
   "outputs": [
    {
     "name": "stdout",
     "output_type": "stream",
     "text": [
      "get a random number between 0 and 1 = 0.430780629278788\n",
      "get a random number between 0 and 10 = 8\n",
      "select a random item = apples\n",
      "shuffle a list ['joe', 'jack', 'jill', 'john', 'jane']\n"
     ]
    }
   ],
   "source": [
    "print('get a random number between 0 and 1 =', random())\n",
    "print('get a random number between 0 and 10 =', randint(1,10))\n",
    "print('select a random item =',choice(['bnanana','mango','apples','grapes']))\n",
    "names=['john','jane','jack','jill','joe']\n",
    "shuffle(names)\n",
    "print('shuffle a list',names)\n"
   ]
  },
  {
   "cell_type": "code",
   "execution_count": 25,
   "metadata": {},
   "outputs": [],
   "source": [
    "from datetime import datetime as dt "
   ]
  },
  {
   "cell_type": "code",
   "execution_count": 26,
   "metadata": {},
   "outputs": [
    {
     "name": "stdout",
     "output_type": "stream",
     "text": [
      "current date and time: 2023-09-15 13:11:27.950636\n"
     ]
    }
   ],
   "source": [
    "print('current date and time:',dt.now() )"
   ]
  },
  {
   "cell_type": "code",
   "execution_count": 27,
   "metadata": {},
   "outputs": [
    {
     "name": "stdout",
     "output_type": "stream",
     "text": [
      "current date :  2023-09-15\n",
      "current time :  13:11:27.956751\n"
     ]
    }
   ],
   "source": [
    "print('current date : ',dt.now().date() )\n",
    "print('current time : ',dt.now().time() )"
   ]
  },
  {
   "cell_type": "code",
   "execution_count": 28,
   "metadata": {},
   "outputs": [
    {
     "name": "stdout",
     "output_type": "stream",
     "text": [
      "current year :  2023\n",
      "current month :  9\n",
      "current day :  15\n",
      "current hour :  13\n",
      "current minutes :  11\n",
      "current second :  27\n",
      "current weekday :  4\n"
     ]
    }
   ],
   "source": [
    "print('current year : ',dt.now().year )\n",
    "print('current month : ',dt.now().month )\n",
    "print('current day : ',dt.now().day )\n",
    "print('current hour : ',dt.now().hour )\n",
    "print('current minutes : ',dt.now().minute )\n",
    "print('current second : ',dt.now().second )\n",
    "print('current weekday : ',dt.now(). weekday())"
   ]
  },
  {
   "cell_type": "code",
   "execution_count": 29,
   "metadata": {},
   "outputs": [
    {
     "name": "stdout",
     "output_type": "stream",
     "text": [
      " formatted date  15/09/2023\n"
     ]
    }
   ],
   "source": [
    "date=dt.strftime(dt.now(), '%d/%m/%Y')\n",
    "print(' formatted date ',date)"
   ]
  },
  {
   "cell_type": "code",
   "execution_count": 30,
   "metadata": {},
   "outputs": [
    {
     "name": "stdout",
     "output_type": "stream",
     "text": [
      " formatted time  13:11:27\n"
     ]
    }
   ],
   "source": [
    "time=dt.strftime(dt.now(), '%H:%M:%S')\n",
    "print(' formatted time ',time)"
   ]
  },
  {
   "cell_type": "code",
   "execution_count": 31,
   "metadata": {},
   "outputs": [],
   "source": [
    "import os #to know about folders,files and directories\n"
   ]
  },
  {
   "cell_type": "code",
   "execution_count": 32,
   "metadata": {},
   "outputs": [
    {
     "name": "stdout",
     "output_type": "stream",
     "text": [
      "current folder c:\\Users\\ASUS\\Desktop\\pyds\n"
     ]
    }
   ],
   "source": [
    "print('current folder', os.getcwd())"
   ]
  },
  {
   "cell_type": "code",
   "execution_count": 33,
   "metadata": {},
   "outputs": [
    {
     "name": "stdout",
     "output_type": "stream",
     "text": [
      "['.git', 'assignment.ipynb', 'assignment2.ipynb', 'classes.ipynb', 'conditions.ipynb', 'dictionary.ipynb', 'functions.ipynb', 'game1.py', 'game2.py', 'libraries.ipynb', 'list.ipynb', 'listcomprehension.ipynb', 'loops.ipynb', 'operators.ipynb', 'pattern1.py', 'pattern2.py', 'pattern3.py', 'pattern4.py', 'patterna.py', 'patternname.py', 'patternnew.py', 'patternsq.py', 'quiz (1).ipynb', 'string.ipynb']\n"
     ]
    }
   ],
   "source": [
    "files=os.listdir()#list of all files and folders of current working directory\n",
    "print(files)"
   ]
  },
  {
   "cell_type": "code",
   "execution_count": 34,
   "metadata": {},
   "outputs": [
    {
     "name": "stdout",
     "output_type": "stream",
     "text": [
      "['New folder']\n",
      "1\n"
     ]
    }
   ],
   "source": [
    "files=os.listdir(r\"C:\\Users\\ASUS\\OneDrive\\Pictures\")\n",
    "print(files)\n",
    "print(len(files))"
   ]
  },
  {
   "cell_type": "code",
   "execution_count": 35,
   "metadata": {},
   "outputs": [
    {
     "data": {
      "text/plain": [
       "<generator object _walk at 0x000001869C88D8B0>"
      ]
     },
     "execution_count": 35,
     "metadata": {},
     "output_type": "execute_result"
    }
   ],
   "source": [
    "os.walk('c:')#walk through all folders and files"
   ]
  },
  {
   "cell_type": "code",
   "execution_count": 36,
   "metadata": {},
   "outputs": [
    {
     "name": "stdout",
     "output_type": "stream",
     "text": [
      "=> c:\n",
      "folders= ['.git']\n",
      "files= ['assignment.ipynb', 'assignment2.ipynb', 'classes.ipynb', 'conditions.ipynb', 'dictionary.ipynb', 'functions.ipynb', 'game1.py', 'game2.py', 'libraries.ipynb', 'list.ipynb', 'listcomprehension.ipynb', 'loops.ipynb', 'operators.ipynb', 'pattern1.py', 'pattern2.py', 'pattern3.py', 'pattern4.py', 'patterna.py', 'patternname.py', 'patternnew.py', 'patternsq.py', 'quiz (1).ipynb', 'string.ipynb']\n",
      "=> c:.git\n",
      "folders= ['hooks', 'info', 'logs', 'objects', 'refs']\n",
      "files= ['COMMIT_EDITMSG', 'config', 'description', 'FETCH_HEAD', 'HEAD', 'index']\n",
      "=> c:.git\\hooks\n",
      "folders= []\n",
      "files= ['applypatch-msg.sample', 'commit-msg.sample', 'fsmonitor-watchman.sample', 'post-update.sample', 'pre-applypatch.sample', 'pre-commit.sample', 'pre-merge-commit.sample', 'pre-push.sample', 'pre-rebase.sample', 'pre-receive.sample', 'prepare-commit-msg.sample', 'push-to-checkout.sample', 'sendemail-validate.sample', 'update.sample']\n",
      "=> c:.git\\info\n",
      "folders= []\n",
      "files= ['exclude']\n",
      "=> c:.git\\logs\n",
      "folders= ['refs']\n",
      "files= ['HEAD']\n",
      "=> c:.git\\logs\\refs\n",
      "folders= ['heads', 'remotes']\n",
      "files= []\n",
      "=> c:.git\\logs\\refs\\heads\n",
      "folders= []\n",
      "files= ['main']\n",
      "=> c:.git\\logs\\refs\\remotes\n",
      "folders= ['pyds']\n",
      "files= []\n",
      "=> c:.git\\logs\\refs\\remotes\\pyds\n",
      "folders= []\n",
      "files= ['main']\n",
      "=> c:.git\\objects\n",
      "folders= ['07', '0e', '11', '14', '15', '27', '3f', '44', '54', '55', '56', '60', '63', '66', '6b', '6d', '6e', '74', '77', '78', '80', '84', '8a', '8c', '8f', '92', '98', 'a4', 'a5', 'b5', 'c3', 'd1', 'd3', 'd5', 'd8', 'd9', 'db', 'e5', 'e6', 'e7', 'e8', 'f6', 'fe', 'info', 'pack']\n",
      "files= []\n",
      "=> c:.git\\objects\\07\n",
      "folders= []\n",
      "files= ['21133f239212a1c6db797693f60190b76fab79']\n",
      "=> c:.git\\objects\\0e\n",
      "folders= []\n",
      "files= ['ac14e099d58c54cc6ed2433d4e5b68b6a49632']\n",
      "=> c:.git\\objects\\11\n",
      "folders= []\n",
      "files= ['42e7b3c2e1364f6bad8b1adbbd9d2bc5f1cc6b']\n",
      "=> c:.git\\objects\\14\n",
      "folders= []\n",
      "files= ['ed2178799384e9c04384b5976691d056c64657']\n",
      "=> c:.git\\objects\\15\n",
      "folders= []\n",
      "files= ['79949b578f9e8f5cbe918e0e76192ed524dac1']\n",
      "=> c:.git\\objects\\27\n",
      "folders= []\n",
      "files= ['6fd2019ea0349a426ebc5a98d3290d88758363']\n",
      "=> c:.git\\objects\\3f\n",
      "folders= []\n",
      "files= ['bf34ce1e4cbecdab556aa7e86c0d38f7f376de']\n",
      "=> c:.git\\objects\\44\n",
      "folders= []\n",
      "files= ['6f2337d9b9e6daed3a76e0a1bbac5678184eff']\n",
      "=> c:.git\\objects\\54\n",
      "folders= []\n",
      "files= ['d7d258b0453d6fd36e2586d3fea0655da34033']\n",
      "=> c:.git\\objects\\55\n",
      "folders= []\n",
      "files= ['71d7cc283a5e93af0dc3b9d1ae8f928bf59179']\n",
      "=> c:.git\\objects\\56\n",
      "folders= []\n",
      "files= ['b755171d7785a606c8799ab28d594ba0ff273b']\n",
      "=> c:.git\\objects\\60\n",
      "folders= []\n",
      "files= ['59a5be456a4543b56b8710543f9863682cd7cb']\n",
      "=> c:.git\\objects\\63\n",
      "folders= []\n",
      "files= ['3f1deb35fefda18374d9db7f8dd0b6668a35e6']\n",
      "=> c:.git\\objects\\66\n",
      "folders= []\n",
      "files= ['a435abe00ef76cdb0a3e67eccc2c19fa2f5f53']\n",
      "=> c:.git\\objects\\6b\n",
      "folders= []\n",
      "files= ['60aa5acf6886917c59eacca249d393eca4e80e']\n",
      "=> c:.git\\objects\\6d\n",
      "folders= []\n",
      "files= ['bd4e279e3c54818090c92cd6bdda26b38af61d']\n",
      "=> c:.git\\objects\\6e\n",
      "folders= []\n",
      "files= ['4d72516a829692bbe3fa579994a82ab078bdce']\n",
      "=> c:.git\\objects\\74\n",
      "folders= []\n",
      "files= ['890a133c35d308961f4dd2f0991735c0e1268f']\n",
      "=> c:.git\\objects\\77\n",
      "folders= []\n",
      "files= ['42c36accc025a3bb381c81c486aee9881b5475']\n",
      "=> c:.git\\objects\\78\n",
      "folders= []\n",
      "files= ['811e0e9d89906b2a8e4e030eda37beed46cf7a']\n",
      "=> c:.git\\objects\\80\n",
      "folders= []\n",
      "files= ['6a3e03e4721dc88205cd348dd80e87e813dd78']\n",
      "=> c:.git\\objects\\84\n",
      "folders= []\n",
      "files= ['39bbbe5292cb7b13da69ce627c11e9a1328bf6']\n",
      "=> c:.git\\objects\\8a\n",
      "folders= []\n",
      "files= ['8f78cc68164bfc3383a4fc13e9ee1168381d7c']\n",
      "=> c:.git\\objects\\8c\n",
      "folders= []\n",
      "files= ['49907408b5e645b0d159e41af119a51c4054ce']\n",
      "=> c:.git\\objects\\8f\n",
      "folders= []\n",
      "files= ['87e2066978d3dfa2072fc8f78027b61352f3a5']\n",
      "=> c:.git\\objects\\92\n",
      "folders= []\n",
      "files= ['26d5914e313b9b12b601f2241334fca30e5ba9']\n",
      "=> c:.git\\objects\\98\n",
      "folders= []\n",
      "files= ['4d13dbf1671dc474f74834ace387b088adf462']\n",
      "=> c:.git\\objects\\a4\n",
      "folders= []\n",
      "files= ['f54e9174e921f455a8ec4d04271c7262ce9119']\n",
      "=> c:.git\\objects\\a5\n",
      "folders= []\n",
      "files= ['7be2cebcfd8fa9a8d4ce8339ba4c628919344d']\n",
      "=> c:.git\\objects\\b5\n",
      "folders= []\n",
      "files= ['d15bd219cb844f708778f1499df53a09d71ebc']\n",
      "=> c:.git\\objects\\c3\n",
      "folders= []\n",
      "files= ['393b8c6e90631def660e86f6dfcdfad30f0167']\n",
      "=> c:.git\\objects\\d1\n",
      "folders= []\n",
      "files= ['4434373eca7d2ca0bfbec46681caa9ffee73a0', '4d3c4846abd5a36378175fe833fe2e339d4008']\n",
      "=> c:.git\\objects\\d3\n",
      "folders= []\n",
      "files= ['b7b5ad4e7852bb02afb5912be5716aa9ff25c8']\n",
      "=> c:.git\\objects\\d5\n",
      "folders= []\n",
      "files= ['199152b4b2614a289218c1ba4080e5aaf5e1a8', 'aa1bfcb4ffed146a143b2669eddaa6fe4e00d7']\n",
      "=> c:.git\\objects\\d8\n",
      "folders= []\n",
      "files= ['9d0cf00d5617954503b689117e5a0655510174']\n",
      "=> c:.git\\objects\\d9\n",
      "folders= []\n",
      "files= ['596da408d15c1b261a15523e1b441ea3ec63fc']\n",
      "=> c:.git\\objects\\db\n",
      "folders= []\n",
      "files= ['5776d4c23865ab5422c9d125f437372aa00398']\n",
      "=> c:.git\\objects\\e5\n",
      "folders= []\n",
      "files= ['47b5b2f17ea0c624477f8b41875d8147b0d826']\n",
      "=> c:.git\\objects\\e6\n",
      "folders= []\n",
      "files= ['372804bbc57b70144ef542d66b81e65e8fe7e7']\n",
      "=> c:.git\\objects\\e7\n",
      "folders= []\n",
      "files= ['c3084256a6b0f8586f3cc72f152f9d0882567b']\n",
      "=> c:.git\\objects\\e8\n",
      "folders= []\n",
      "files= ['00aa56a864c11633a2b185a12db62104a19e18', '83f35c344b45b3c2c110e9c7bce0e161b07f7a']\n",
      "=> c:.git\\objects\\f6\n",
      "folders= []\n",
      "files= ['b71fb9184844a8cb96befb245220288dcca880']\n",
      "=> c:.git\\objects\\fe\n",
      "folders= []\n",
      "files= ['01af31f59fea7a39a82f9ca0ee949118598a72']\n",
      "=> c:.git\\objects\\info\n",
      "folders= []\n",
      "files= []\n",
      "=> c:.git\\objects\\pack\n",
      "folders= []\n",
      "files= []\n",
      "=> c:.git\\refs\n",
      "folders= ['heads', 'remotes', 'tags']\n",
      "files= []\n",
      "=> c:.git\\refs\\heads\n",
      "folders= []\n",
      "files= ['main']\n",
      "=> c:.git\\refs\\remotes\n",
      "folders= ['pyds']\n",
      "files= []\n",
      "=> c:.git\\refs\\remotes\\pyds\n",
      "folders= []\n",
      "files= ['main']\n",
      "=> c:.git\\refs\\tags\n",
      "folders= []\n",
      "files= []\n",
      "total files= 95\n"
     ]
    }
   ],
   "source": [
    "total_files=0\n",
    "for path, folders , files in os.walk(r\"c:\"):\n",
    "    print('=>',path)\n",
    "    print('folders=',folders)\n",
    "    print('files=',files)\n",
    "    total_files+=len(files)\n",
    "print('total files=',total_files)"
   ]
  },
  {
   "cell_type": "code",
   "execution_count": 37,
   "metadata": {},
   "outputs": [
    {
     "name": "stdout",
     "output_type": "stream",
     "text": [
      "file exist\n"
     ]
    }
   ],
   "source": [
    "files=r'c:'\n",
    "if os.path.exists(files):\n",
    "    print(\"file exist\")"
   ]
  },
  {
   "cell_type": "code",
   "execution_count": 39,
   "metadata": {},
   "outputs": [
    {
     "name": "stdout",
     "output_type": "stream",
     "text": [
      "files exit\n",
      "size in bytes: 8192\n",
      "size in kilobytes: 8.0\n",
      "size in megabytes: 0.0078125\n",
      "size in gigabytes: 7.62939453125e-06\n",
      "size in terabytes: 7.450580596923828e-09\n"
     ]
    }
   ],
   "source": [
    "files=r\"c:\"\n",
    "if os.path.exists(files):\n",
    "    print(\"files exit\")\n",
    "    size=os.path.getsize(files)\n",
    "    print('size in bytes:', size)\n",
    "    print('size in kilobytes:', size/1024)\n",
    "    print('size in megabytes:', size/(1024*1024))\n",
    "    print('size in gigabytes:', size/(1024*1024*1024))\n",
    "    print('size in terabytes:', size/(1024*1024*1024*1024))"
   ]
  },
  {
   "cell_type": "code",
   "execution_count": null,
   "metadata": {},
   "outputs": [],
   "source": []
  }
 ],
 "metadata": {
  "kernelspec": {
   "display_name": "base",
   "language": "python",
   "name": "python3"
  },
  "language_info": {
   "codemirror_mode": {
    "name": "ipython",
    "version": 3
   },
   "file_extension": ".py",
   "mimetype": "text/x-python",
   "name": "python",
   "nbconvert_exporter": "python",
   "pygments_lexer": "ipython3",
   "version": "3.11.4"
  },
  "orig_nbformat": 4
 },
 "nbformat": 4,
 "nbformat_minor": 2
}
