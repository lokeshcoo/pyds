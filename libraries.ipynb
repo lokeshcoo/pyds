{
 "cells": [
  {
   "cell_type": "code",
   "execution_count": 3,
   "metadata": {},
   "outputs": [],
   "source": [
    "import math "
   ]
  },
  {
   "cell_type": "code",
   "execution_count": 11,
   "metadata": {},
   "outputs": [
    {
     "name": "stdout",
     "output_type": "stream",
     "text": [
      "3.4641016151377544\n",
      "120\n",
      "2.0\n",
      "2\n",
      "252\n",
      "3.141592653589793\n",
      "2.718281828459045\n",
      "0.1411200080598672\n"
     ]
    }
   ],
   "source": [
    "a=12\n",
    "b=math.sqrt(a)\n",
    "print(b)\n",
    "print(math.factorial(5))\n",
    "print(math.log(100,10))\n",
    "print(math.gcd(12,18,14))\n",
    "print(math.lcm(12,18,14))\n",
    "print(math.pi)\n",
    "print(math.e)\n",
    "print(math.sin(3))"
   ]
  },
  {
   "cell_type": "code",
   "execution_count": 15,
   "metadata": {},
   "outputs": [],
   "source": [
    "from random import random, randint , choice , shuffle"
   ]
  },
  {
   "cell_type": "code",
   "execution_count": 25,
   "metadata": {},
   "outputs": [
    {
     "name": "stdout",
     "output_type": "stream",
     "text": [
      "get a random number between 0 and 1 = 0.15767733927264993\n",
      "get a random number between 0 and 10 = 9\n",
      "select a random item = grapes\n",
      "shuffle a list ['jill', 'jane', 'john', 'jack', 'joe']\n"
     ]
    }
   ],
   "source": [
    "print('get a random number between 0 and 1 =', random())\n",
    "print('get a random number between 0 and 10 =', randint(1,10))\n",
    "print('select a random item =',choice(['bnanana','mango','apples','grapes']))\n",
    "names=['john','jane','jack','jill','joe']\n",
    "shuffle(names)\n",
    "print('shuffle a list',names)\n"
   ]
  },
  {
   "cell_type": "code",
   "execution_count": 26,
   "metadata": {},
   "outputs": [],
   "source": [
    "from datetime import datetime as dt "
   ]
  },
  {
   "cell_type": "code",
   "execution_count": 27,
   "metadata": {},
   "outputs": [
    {
     "name": "stdout",
     "output_type": "stream",
     "text": [
      "current date and time: 2023-09-13 10:35:57.649126\n"
     ]
    }
   ],
   "source": [
    "print('current date and time:',dt.now() )"
   ]
  },
  {
   "cell_type": "code",
   "execution_count": 29,
   "metadata": {},
   "outputs": [
    {
     "name": "stdout",
     "output_type": "stream",
     "text": [
      "current date :  2023-09-13\n",
      "current time :  10:40:20.510884\n"
     ]
    }
   ],
   "source": [
    "print('current date : ',dt.now().date() )\n",
    "print('current time : ',dt.now().time() )"
   ]
  },
  {
   "cell_type": "code",
   "execution_count": 31,
   "metadata": {},
   "outputs": [
    {
     "name": "stdout",
     "output_type": "stream",
     "text": [
      "current year :  2023\n",
      "current month :  9\n",
      "current day :  13\n",
      "current hour :  10\n",
      "current minutes :  49\n",
      "current second :  25\n",
      "current weekday :  2\n"
     ]
    }
   ],
   "source": [
    "print('current year : ',dt.now().year )\n",
    "print('current month : ',dt.now().month )\n",
    "print('current day : ',dt.now().day )\n",
    "print('current hour : ',dt.now().hour )\n",
    "print('current minutes : ',dt.now().minute )\n",
    "print('current second : ',dt.now().second )\n",
    "print('current weekday : ',dt.now(). weekday())"
   ]
  },
  {
   "cell_type": "code",
   "execution_count": 32,
   "metadata": {},
   "outputs": [
    {
     "name": "stdout",
     "output_type": "stream",
     "text": [
      " formatted date  13/09/2023\n"
     ]
    }
   ],
   "source": [
    "date=dt.strftime(dt.now(), '%d/%m/%Y')\n",
    "print(' formatted date ',date)"
   ]
  },
  {
   "cell_type": "code",
   "execution_count": 34,
   "metadata": {},
   "outputs": [
    {
     "name": "stdout",
     "output_type": "stream",
     "text": [
      " formatted time  10:53:01\n"
     ]
    }
   ],
   "source": [
    "time=dt.strftime(dt.now(), '%H:%M:%S')\n",
    "print(' formatted time ',time)"
   ]
  },
  {
   "cell_type": "code",
   "execution_count": 35,
   "metadata": {},
   "outputs": [],
   "source": [
    "import os #to know about folders,files and directories\n"
   ]
  },
  {
   "cell_type": "code",
   "execution_count": 36,
   "metadata": {},
   "outputs": [
    {
     "name": "stdout",
     "output_type": "stream",
     "text": [
      "current folder c:\\Users\\ASUS\\Desktop\\pyds\n"
     ]
    }
   ],
   "source": [
    "print('current folder', os.getcwd())"
   ]
  },
  {
   "cell_type": "code",
   "execution_count": 40,
   "metadata": {},
   "outputs": [
    {
     "name": "stdout",
     "output_type": "stream",
     "text": [
      "['.git', 'assignment.ipynb', 'assignment2.ipynb', 'classes.ipynb', 'conditions.ipynb', 'dictionary.ipynb', 'functions.ipynb', 'game1.py', 'game2.py', 'libraries.ipynb', 'list.ipynb', 'listcomprehension.ipynb', 'loops.ipynb', 'operators.ipynb', 'pattern1.py', 'pattern2.py', 'pattern3.py', 'pattern4.py', 'patterna.py', 'patternname.py', 'patternnew.py', 'patternsq.py', 'quiz (1).ipynb', 'string.ipynb']\n"
     ]
    }
   ],
   "source": [
    "files=os.listdir()#list of all files and folders of current working directory\n",
    "print(files)"
   ]
  },
  {
   "cell_type": "code",
   "execution_count": 44,
   "metadata": {},
   "outputs": [
    {
     "name": "stdout",
     "output_type": "stream",
     "text": [
      "['New folder']\n",
      "1\n"
     ]
    }
   ],
   "source": [
    "files=os.listdir(r\"C:\\Users\\ASUS\\OneDrive\\Pictures\")\n",
    "print(files)\n",
    "print(len(files))"
   ]
  },
  {
   "cell_type": "code",
   "execution_count": null,
   "metadata": {},
   "outputs": [],
   "source": []
  }
 ],
 "metadata": {
  "kernelspec": {
   "display_name": "base",
   "language": "python",
   "name": "python3"
  },
  "language_info": {
   "codemirror_mode": {
    "name": "ipython",
    "version": 3
   },
   "file_extension": ".py",
   "mimetype": "text/x-python",
   "name": "python",
   "nbconvert_exporter": "python",
   "pygments_lexer": "ipython3",
   "version": "3.11.4"
  },
  "orig_nbformat": 4
 },
 "nbformat": 4,
 "nbformat_minor": 2
}
