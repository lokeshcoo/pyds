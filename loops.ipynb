{
 "cells": [
  {
   "cell_type": "markdown",
   "metadata": {},
   "source": [
    "LOOPs\n",
    "- for\n",
    "- while\n",
    "- do while\n",
    "- nested loop\n"
   ]
  },
  {
   "cell_type": "code",
   "execution_count": 1,
   "metadata": {},
   "outputs": [
    {
     "name": "stdout",
     "output_type": "stream",
     "text": [
      "apple\n",
      "banana\n",
      "cherry\n",
      "orange\n",
      "kiwi\n",
      "mango\n",
      "watermelon\n",
      "grapes\n"
     ]
    }
   ],
   "source": [
    "a=[\"apple\",\"banana\",\"cherry\",\"orange\",\"kiwi\",\"mango\",\"watermelon\",\"grapes\",]\n",
    "for x in a:\n",
    "    print(x)"
   ]
  },
  {
   "cell_type": "code",
   "execution_count": 2,
   "metadata": {},
   "outputs": [
    {
     "name": "stdout",
     "output_type": "stream",
     "text": [
      "h\n",
      "e\n",
      "l\n",
      "l\n",
      "o\n",
      "w\n",
      "o\n",
      "r\n",
      "l\n",
      "d\n"
     ]
    }
   ],
   "source": [
    "x=\"helloworld\"\n",
    "for a in x:\n",
    "    print(a)"
   ]
  },
  {
   "cell_type": "code",
   "execution_count": 12,
   "metadata": {},
   "outputs": [
    {
     "name": "stdout",
     "output_type": "stream",
     "text": [
      "h\n",
      "e\n",
      "l\n",
      "l\n",
      "o\n"
     ]
    }
   ],
   "source": [
    "a=\"hello\"\n",
    "for x in a:\n",
    "    print(x)"
   ]
  },
  {
   "cell_type": "code",
   "execution_count": 15,
   "metadata": {},
   "outputs": [
    {
     "name": "stdout",
     "output_type": "stream",
     "text": [
      "h\n",
      "e\n",
      "l\n",
      "l\n",
      "o\n"
     ]
    }
   ],
   "source": [
    "x=\"helloworld\"\n",
    "for i in range(0,5):\n",
    "    print(x[i])\n"
   ]
  },
  {
   "cell_type": "code",
   "execution_count": 21,
   "metadata": {},
   "outputs": [
    {
     "name": "stdout",
     "output_type": "stream",
     "text": [
      "2\n",
      "4\n",
      "6\n",
      "8\n",
      "10\n",
      "12\n",
      "14\n",
      "16\n",
      "18\n",
      "20\n",
      "22\n",
      "24\n",
      "26\n",
      "28\n",
      "30\n",
      "32\n",
      "34\n",
      "36\n",
      "38\n",
      "40\n",
      "42\n",
      "44\n",
      "46\n",
      "48\n",
      "50\n",
      "52\n",
      "54\n",
      "56\n",
      "58\n",
      "60\n",
      "62\n",
      "64\n",
      "66\n",
      "68\n",
      "70\n",
      "72\n",
      "74\n",
      "76\n",
      "78\n",
      "80\n",
      "82\n",
      "84\n",
      "86\n",
      "88\n",
      "90\n",
      "92\n",
      "94\n",
      "96\n",
      "98\n",
      "100\n"
     ]
    }
   ],
   "source": [
    "for x in range(2,101,2):\n",
    "    print(x)"
   ]
  },
  {
   "cell_type": "code",
   "execution_count": 22,
   "metadata": {},
   "outputs": [
    {
     "name": "stdout",
     "output_type": "stream",
     "text": [
      "0\n",
      "1\n",
      "2\n",
      "3\n",
      "4\n",
      "5\n",
      "6\n",
      "7\n",
      "8\n",
      "9\n",
      "10\n",
      "11\n",
      "12\n",
      "13\n",
      "14\n",
      "15\n",
      "16\n",
      "17\n",
      "18\n",
      "19\n",
      "20\n"
     ]
    }
   ],
   "source": [
    "i=0\n",
    "while i<=20:\n",
    "    print(i)\n",
    "    i+=1\n"
   ]
  },
  {
   "cell_type": "code",
   "execution_count": 8,
   "metadata": {},
   "outputs": [
    {
     "name": "stdout",
     "output_type": "stream",
     "text": [
      "odd: 1\n",
      "odd: 3\n",
      "odd: 5\n",
      "odd: 7\n",
      "odd: 9\n",
      "even: 2\n",
      "even: 4\n",
      "even: 6\n",
      "even: 8\n",
      "even: 10\n"
     ]
    }
   ],
   "source": [
    "x=[1,2,3,4,5,6,7,8,9,10]\n",
    "for i in range(1,10,2):\n",
    "    print(\"odd:\",i)\n",
    "for i in range(2,12,2):\n",
    "    print(\"even:\",i)    \n",
    "\n",
    "    \n"
   ]
  },
  {
   "cell_type": "code",
   "execution_count": 10,
   "metadata": {},
   "outputs": [
    {
     "name": "stdout",
     "output_type": "stream",
     "text": [
      "even: 2\n",
      "odd: 3\n",
      "even: 4\n",
      "odd: 5\n",
      "even: 6\n",
      "odd: 7\n",
      "even: 8\n",
      "odd: 9\n"
     ]
    }
   ],
   "source": [
    "x=[2,3,4,5,6,7,8,9]\n",
    "for i in x:\n",
    "    if i%2==0:\n",
    "        print(\"even:\",i)\n",
    "    else:\n",
    "        print(\"odd:\",i)    "
   ]
  },
  {
   "cell_type": "markdown",
   "metadata": {},
   "source": [
    "Break statement"
   ]
  },
  {
   "cell_type": "code",
   "execution_count": 11,
   "metadata": {},
   "outputs": [
    {
     "name": "stdout",
     "output_type": "stream",
     "text": [
      "2\n",
      "3\n",
      "4\n",
      "5\n",
      "6\n",
      "7\n",
      "8\n",
      "90\n",
      "87\n"
     ]
    }
   ],
   "source": [
    "x=[2,3,4,5,6,7,8,90,87,76,65,54,43,21]\n",
    "for i in x:\n",
    "    if i==76:\n",
    "        break\n",
    "    print(i)"
   ]
  },
  {
   "cell_type": "code",
   "execution_count": 12,
   "metadata": {},
   "outputs": [
    {
     "name": "stdout",
     "output_type": "stream",
     "text": [
      "2 3 4 5 6 7 8 90 87 "
     ]
    }
   ],
   "source": [
    "x=[2,3,4,5,6,7,8,90,87,76,65,54,43,21]\n",
    "for i in x:\n",
    "    if i==76:\n",
    "        break\n",
    "    print(i,end=\" \")"
   ]
  },
  {
   "cell_type": "code",
   "execution_count": 13,
   "metadata": {},
   "outputs": [
    {
     "name": "stdout",
     "output_type": "stream",
     "text": [
      "2 3 4 5 6 7 8 90 87 65 54 43 21 "
     ]
    }
   ],
   "source": [
    "x=[2,3,4,5,6,7,8,90,87,76,65,54,43,21]\n",
    "for i in x:\n",
    "    if i==76:\n",
    "        continue\n",
    "    print(i,end=\" \")\n",
    "\n"
   ]
  },
  {
   "cell_type": "code",
   "execution_count": 14,
   "metadata": {},
   "outputs": [
    {
     "name": "stdout",
     "output_type": "stream",
     "text": [
      "2 3 4 5 6 7 90 87 65 54 43 21 "
     ]
    }
   ],
   "source": [
    "x=[2,3,4,5,6,7,8,90,87,76,65,54,43,21]\n",
    "for i in x:\n",
    "    if i==76 or i==8:\n",
    "        continue\n",
    "    print(i,end=\" \")\n",
    "\n"
   ]
  },
  {
   "cell_type": "code",
   "execution_count": 15,
   "metadata": {},
   "outputs": [
    {
     "name": "stdout",
     "output_type": "stream",
     "text": [
      "1 2 3 5 1 2 23 3 1 2 2 3 3 "
     ]
    }
   ],
   "source": [
    "x=[1,2,3,None,5,1,None,2,23,None,3,1,2,2,3,None,3]\n",
    "for num in x:\n",
    "    if num is None:\n",
    "        continue\n",
    "    print(num,end=\" \")\n"
   ]
  },
  {
   "cell_type": "code",
   "execution_count": 16,
   "metadata": {},
   "outputs": [
    {
     "name": "stdout",
     "output_type": "stream",
     "text": [
      "1:Lokesh\n",
      "2:Akash\n",
      "3:Siddhant\n",
      "4:Danish\n"
     ]
    }
   ],
   "source": [
    "names=[\"Lokesh\",\"Akash\",\"Siddhant\",\"Danish\"]\n",
    "for idx, name in enumerate(names):\n",
    "    print(f\"{idx+1}:{name}\")\n",
    "    "
   ]
  },
  {
   "cell_type": "code",
   "execution_count": 18,
   "metadata": {},
   "outputs": [
    {
     "name": "stdout",
     "output_type": "stream",
     "text": [
      "20\n",
      "27\n",
      "32\n",
      "35\n",
      "36\n",
      "35\n",
      "32\n",
      "27\n"
     ]
    }
   ],
   "source": [
    "x=[2,3,4,5,6,7,8,9]\n",
    "y=[9,8,7,6,5,4,3,2]\n",
    "z=[2,3,4,5,6,7,8,9]\n",
    "for i,j,k in zip(x,y,z):\n",
    "    print(i*j+k)"
   ]
  },
  {
   "cell_type": "code",
   "execution_count": 22,
   "metadata": {},
   "outputs": [
    {
     "name": "stdout",
     "output_type": "stream",
     "text": [
      "interstellerhas a rating of 8⭐ on IMBD\n",
      "the martinhas a rating of 6⭐ on IMBD\n",
      "gravityhas a rating of 8⭐ on IMBD\n",
      "apollo 13has a rating of 7⭐ on IMBD\n"
     ]
    }
   ],
   "source": [
    "movies=['intersteller','the martin','gravity','apollo 13']\n",
    "ratings=[8,6,8,7,7,6]\n",
    "for name,star in zip(movies,ratings):\n",
    "    print(f'{name}has a rating of {star}⭐ on IMBD')"
   ]
  },
  {
   "cell_type": "code",
   "execution_count": null,
   "metadata": {},
   "outputs": [],
   "source": []
  },
  {
   "cell_type": "code",
   "execution_count": null,
   "metadata": {},
   "outputs": [],
   "source": []
  }
 ],
 "metadata": {
  "kernelspec": {
   "display_name": "base",
   "language": "python",
   "name": "python3"
  },
  "language_info": {
   "codemirror_mode": {
    "name": "ipython",
    "version": 3
   },
   "file_extension": ".py",
   "mimetype": "text/x-python",
   "name": "python",
   "nbconvert_exporter": "python",
   "pygments_lexer": "ipython3",
   "version": "3.11.4"
  },
  "orig_nbformat": 4
 },
 "nbformat": 4,
 "nbformat_minor": 2
}
