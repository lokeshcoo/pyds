{
 "cells": [
  {
   "cell_type": "code",
   "execution_count": 2,
   "metadata": {},
   "outputs": [
    {
     "name": "stdout",
     "output_type": "stream",
     "text": [
      "[4, 9, 16, 25]\n"
     ]
    }
   ],
   "source": [
    "num=[2,3,4,5]\n",
    "square=[x**2 for x in num] #x is a pointer variable to store value of the list elements\n",
    "print(square)"
   ]
  },
  {
   "cell_type": "code",
   "execution_count": 4,
   "metadata": {},
   "outputs": [
    {
     "name": "stdout",
     "output_type": "stream",
     "text": [
      "[2, 4, 6, 8, 10]\n",
      "[3, 5, 7, 9]\n"
     ]
    }
   ],
   "source": [
    "num=[2,3,4,5,6,7,8,9,10]\n",
    "even_num=[x for x in num if x%2==0]\n",
    "odd_num=[y for y in num if y%2!=0]\n",
    "print(even_num)\n",
    "print(odd_num)"
   ]
  },
  {
   "cell_type": "code",
   "execution_count": 2,
   "metadata": {},
   "outputs": [
    {
     "name": "stdout",
     "output_type": "stream",
     "text": [
      "['grapes', 'mango', 'apple', 'banana', 'orange']\n"
     ]
    }
   ],
   "source": [
    "list=['grapes','mango','apple','banana','orange','kiwi']\n",
    "l=[x for x in list if len(x)>=5]\n",
    "print(l)"
   ]
  },
  {
   "cell_type": "code",
   "execution_count": 3,
   "metadata": {},
   "outputs": [
    {
     "name": "stdout",
     "output_type": "stream",
     "text": [
      "['LOKESH', 'AKASH', 'SIDDHANT', 'AREEBA_MAAM']\n"
     ]
    }
   ],
   "source": [
    "string=['lokesh','akash','siddhant','areeba_maam']\n",
    "uc=[x.upper() for x in string ]\n",
    "print(uc)"
   ]
  },
  {
   "cell_type": "code",
   "execution_count": null,
   "metadata": {},
   "outputs": [],
   "source": []
  }
 ],
 "metadata": {
  "kernelspec": {
   "display_name": "base",
   "language": "python",
   "name": "python3"
  },
  "language_info": {
   "codemirror_mode": {
    "name": "ipython",
    "version": 3
   },
   "file_extension": ".py",
   "mimetype": "text/x-python",
   "name": "python",
   "nbconvert_exporter": "python",
   "pygments_lexer": "ipython3",
   "version": "3.11.4"
  },
  "orig_nbformat": 4
 },
 "nbformat": 4,
 "nbformat_minor": 2
}
