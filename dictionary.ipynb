{
 "cells": [
  {
   "cell_type": "code",
   "execution_count": 16,
   "metadata": {},
   "outputs": [
    {
     "name": "stdout",
     "output_type": "stream",
     "text": [
      "{'name': 'John cena ', 'class': '2nd', 'roll_no': 21, 'marks': 90}\n"
     ]
    }
   ],
   "source": [
    "student={'name': 'John cena ',\n",
    "         'class':'2nd',\n",
    "         'roll_no': 21,\n",
    "         'marks': 90 }\n",
    "print(student)"
   ]
  },
  {
   "cell_type": "markdown",
   "metadata": {},
   "source": [
    "To access values there are two methods :"
   ]
  },
  {
   "cell_type": "code",
   "execution_count": 17,
   "metadata": {},
   "outputs": [
    {
     "name": "stdout",
     "output_type": "stream",
     "text": [
      "John cena \n",
      "2nd\n"
     ]
    }
   ],
   "source": [
    "#1st method\n",
    "print(student['name'])\n",
    "print(student['class'])"
   ]
  },
  {
   "cell_type": "code",
   "execution_count": 18,
   "metadata": {},
   "outputs": [
    {
     "name": "stdout",
     "output_type": "stream",
     "text": [
      "John cena \n",
      "2nd\n"
     ]
    }
   ],
   "source": [
    "#2nd method\n",
    "print(student.get('name'))\n",
    "print(student.get('class'))\n"
   ]
  },
  {
   "cell_type": "code",
   "execution_count": 19,
   "metadata": {},
   "outputs": [
    {
     "name": "stdout",
     "output_type": "stream",
     "text": [
      "{'name': 'John cena ', 'class': '2nd', 'roll_no': 21, 'marks': 90, 'school': 'SKD', 'fathers name': 'Sam cena'}\n"
     ]
    }
   ],
   "source": [
    "#to add items in a dictionary\n",
    "student['school']='SKD'\n",
    "student['fathers name']='Sam cena'\n",
    "print(student)"
   ]
  },
  {
   "cell_type": "code",
   "execution_count": 20,
   "metadata": {},
   "outputs": [
    {
     "name": "stdout",
     "output_type": "stream",
     "text": [
      "name\n",
      "class\n",
      "roll_no\n",
      "marks\n",
      "school\n",
      "fathers name\n"
     ]
    }
   ],
   "source": [
    "for key in student:\n",
    "    print(key)"
   ]
  },
  {
   "cell_type": "code",
   "execution_count": 21,
   "metadata": {},
   "outputs": [
    {
     "name": "stdout",
     "output_type": "stream",
     "text": [
      "name : John cena \n",
      "class : 2nd\n",
      "roll_no : 21\n",
      "marks : 90\n",
      "school : SKD\n",
      "fathers name : Sam cena\n"
     ]
    }
   ],
   "source": [
    "for k,v in student.items():\n",
    "    print(f'{k} : {v}')"
   ]
  },
  {
   "cell_type": "code",
   "execution_count": 22,
   "metadata": {},
   "outputs": [
    {
     "name": "stdout",
     "output_type": "stream",
     "text": [
      "dict_keys(['name', 'class', 'roll_no', 'marks', 'school', 'fathers name'])\n",
      "dict_values(['John cena ', '2nd', 21, 90, 'SKD', 'Sam cena'])\n",
      "dict_items([('name', 'John cena '), ('class', '2nd'), ('roll_no', 21), ('marks', 90), ('school', 'SKD'), ('fathers name', 'Sam cena')])\n"
     ]
    }
   ],
   "source": [
    "print(student.keys())\n",
    "print(student.values())\n",
    "print(student.items())\n",
    "\n"
   ]
  },
  {
   "cell_type": "code",
   "execution_count": 23,
   "metadata": {},
   "outputs": [
    {
     "name": "stdout",
     "output_type": "stream",
     "text": [
      "{'english': 67, 'hindi': 90, 'maths': 35, 'science': 75}\n"
     ]
    }
   ],
   "source": [
    "raj=[67,90,35,75,28]\n",
    "raj_dict={\n",
    "    'english':67,\n",
    "    'hindi':90,\n",
    "    'maths':35,\n",
    "    'science':75,\n",
    "}\n",
    "print(raj_dict)"
   ]
  },
  {
   "cell_type": "code",
   "execution_count": 24,
   "metadata": {},
   "outputs": [
    {
     "name": "stdout",
     "output_type": "stream",
     "text": [
      "{'emp001': {'name': 'john', 'age': 26, 'designation': 'team leader', 'salary': 32000}, 'emp002': {'name': 'sam', 'age': 22, 'designation': 'software developer', 'salary': 28000}, 'emp003': {'name': 'aron', 'age': 29, 'designation': 'web developer', 'salary': 30000}}\n"
     ]
    }
   ],
   "source": [
    "company={\n",
    "    'emp001':{\n",
    "        'name':'john',\n",
    "        'age':26,\n",
    "        'designation': 'team leader',\n",
    "        'salary': 32000\n",
    "    },\n",
    "    'emp002':{\n",
    "        'name':'sam',\n",
    "        'age':22,\n",
    "        'designation': 'software developer',\n",
    "        'salary': 28000\n",
    "    },\n",
    "    'emp003':{\n",
    "        'name':'aron',\n",
    "        'age':29,\n",
    "        'designation': 'web developer',\n",
    "        'salary': 30000\n",
    "    }\n",
    "} \n",
    "print(company)   "
   ]
  },
  {
   "cell_type": "code",
   "execution_count": 25,
   "metadata": {},
   "outputs": [
    {
     "name": "stdout",
     "output_type": "stream",
     "text": [
      "{'emp001': {'name': 'john', 'age': 26, 'designation': 'team leader', 'salary': 32000}, 'emp002': {'name': 'sam', 'age': 22, 'designation': 'software developer', 'salary': 28000}, 'emp003': {'name': 'aron', 'age': 29, 'designation': 'web developer', 'salary': 30000}, 'emp004': {'name': 'arjun', 'age': 30, 'designation': 'web designer', 'salary': 30000}}\n"
     ]
    }
   ],
   "source": [
    "company['emp004']={\n",
    "    'name':'arjun',\n",
    "    'age':30,\n",
    "    'designation': 'web designer',\n",
    "    'salary': 30000\n",
    "    }\n",
    "\n",
    "print(company)    "
   ]
  },
  {
   "cell_type": "code",
   "execution_count": 3,
   "metadata": {},
   "outputs": [
    {
     "name": "stdout",
     "output_type": "stream",
     "text": [
      "{'name': 'RAJ-naam tp suna hi hoga', 'school': 'SKD', 'Fathers name': 'pata nhii', 'english': 67, 'hindi': 90, 'maths': 35, 'science': 75, 'occupation': 'sote rehna'}\n",
      "name : RAJ-naam tp suna hi hoga\n",
      "school : SKD\n",
      "Fathers name : pata nhii\n",
      "english : 67\n",
      "hindi : 90\n",
      "maths : 35\n",
      "science : 75\n",
      "occupation : sote rehna\n"
     ]
    }
   ],
   "source": [
    "raj=[67,90,35,75,28]\n",
    "raj_dict={\n",
    "    'name':'RAJ-naam tp suna hi hoga',\n",
    "    'school':'SKD',\n",
    "    'Fathers name':'pata nhii',\n",
    "    'english':67,\n",
    "    'hindi':90,\n",
    "    'maths':35,\n",
    "    'science':75,\n",
    "    'occupation':'sote rehna'\n",
    "}\n",
    "print(raj_dict)\n",
    "for k,v in raj_dict.items():\n",
    "    print(f'{k} : {v}')\n"
   ]
  },
  {
   "cell_type": "code",
   "execution_count": null,
   "metadata": {},
   "outputs": [],
   "source": []
  }
 ],
 "metadata": {
  "kernelspec": {
   "display_name": "base",
   "language": "python",
   "name": "python3"
  },
  "language_info": {
   "codemirror_mode": {
    "name": "ipython",
    "version": 3
   },
   "file_extension": ".py",
   "mimetype": "text/x-python",
   "name": "python",
   "nbconvert_exporter": "python",
   "pygments_lexer": "ipython3",
   "version": "3.11.4"
  },
  "orig_nbformat": 4
 },
 "nbformat": 4,
 "nbformat_minor": 2
}
